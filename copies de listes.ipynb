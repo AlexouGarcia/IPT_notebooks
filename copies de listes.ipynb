{
 "cells": [
  {
   "cell_type": "markdown",
   "metadata": {},
   "source": [
    "##  Subtilités sur le remplissage des listes et des chaines de caractères.\n",
    "\n",
    "#### Rappel : Les listes sont des objets mutables mais pas les chaines de caractère"
   ]
  },
  {
   "cell_type": "code",
   "execution_count": 1,
   "metadata": {},
   "outputs": [],
   "source": [
    "liste = ['s','a','l','u','t']\n",
    "chaine = 'salut'"
   ]
  },
  {
   "cell_type": "code",
   "execution_count": 2,
   "metadata": {},
   "outputs": [
    {
     "name": "stdout",
     "output_type": "stream",
     "text": [
      "['s', 'a', 'p', 'u', 't']\n"
     ]
    }
   ],
   "source": [
    "# Mutabilité de la liste : \n",
    "liste[2] = 'p'\n",
    "print(liste)"
   ]
  },
  {
   "cell_type": "code",
   "execution_count": 3,
   "metadata": {},
   "outputs": [
    {
     "ename": "TypeError",
     "evalue": "'str' object does not support item assignment",
     "output_type": "error",
     "traceback": [
      "\u001b[0;31m---------------------------------------------------------------------------\u001b[0m",
      "\u001b[0;31mTypeError\u001b[0m                                 Traceback (most recent call last)",
      "\u001b[0;32m<ipython-input-3-cbeb17951c22>\u001b[0m in \u001b[0;36m<module>\u001b[0;34m\u001b[0m\n\u001b[1;32m      1\u001b[0m \u001b[0;31m# Non mutabilité de la chaine :\u001b[0m\u001b[0;34m\u001b[0m\u001b[0;34m\u001b[0m\u001b[0;34m\u001b[0m\u001b[0m\n\u001b[0;32m----> 2\u001b[0;31m \u001b[0mchaine\u001b[0m\u001b[0;34m[\u001b[0m\u001b[0;36m2\u001b[0m\u001b[0;34m]\u001b[0m \u001b[0;34m=\u001b[0m \u001b[0;34m'p'\u001b[0m\u001b[0;34m\u001b[0m\u001b[0;34m\u001b[0m\u001b[0m\n\u001b[0m",
      "\u001b[0;31mTypeError\u001b[0m: 'str' object does not support item assignment"
     ]
    }
   ],
   "source": [
    "# Non mutabilité de la chaine :\n",
    "chaine[2] = 'p'"
   ]
  },
  {
   "cell_type": "code",
   "execution_count": null,
   "metadata": {},
   "outputs": [],
   "source": [
    "# Solution pour modifier un caractère d'une chaine : réaffectation totale, chaine = ....:\n",
    "chaine = chaine[:2] + 'p' + chaine[2+1:]\n",
    "print(chaine)"
   ]
  },
  {
   "cell_type": "markdown",
   "metadata": {},
   "source": [
    "## Subtilités sur la modification des listes : La mutabilité entraîne des phénomènes surprenants"
   ]
  },
  {
   "cell_type": "code",
   "execution_count": 4,
   "metadata": {},
   "outputs": [
    {
     "name": "stdout",
     "output_type": "stream",
     "text": [
      "['s', 'a', 31, ['salut']]\n"
     ]
    }
   ],
   "source": [
    "# Problème : on observe un fonctionnement étrange avec les listes : \n",
    "\n",
    "L = ['s','a',47,['salut']]\n",
    "L2 = L                        # On copie la liste\n",
    "L2[2] = 31                    # On modifie L2\n",
    "\n",
    "\n",
    "print(L) # Ca ne devrait rien changer à L ?"
   ]
  },
  {
   "cell_type": "markdown",
   "metadata": {},
   "source": [
    "#### Pour expliquer ce phénomène, on peut utiliser la commande id( L ) qui permet d'obtenir l'adresse dans la mémoire de l'ordinateur de l'objet L:"
   ]
  },
  {
   "cell_type": "code",
   "execution_count": 5,
   "metadata": {},
   "outputs": [
    {
     "name": "stdout",
     "output_type": "stream",
     "text": [
      "4489769920\n",
      "4489769536\n"
     ]
    }
   ],
   "source": [
    "L = ['s','a',47,['salut']]\n",
    "Lidentique = ['s','a',47,['salut']]\n",
    "\n",
    "print(id(L))\n",
    "print(id(Lidentique))"
   ]
  },
  {
   "cell_type": "markdown",
   "metadata": {},
   "source": [
    "### Ce sont des objets qui contiennent les mêmes valeurs mais sont placés à 2 endroits différents de l'ordinateur"
   ]
  },
  {
   "cell_type": "code",
   "execution_count": 6,
   "metadata": {},
   "outputs": [
    {
     "name": "stdout",
     "output_type": "stream",
     "text": [
      "['t', 'a', 47, ['salut']]\n",
      "['s', 'a', 47, ['salut']]\n"
     ]
    }
   ],
   "source": [
    "L[0] = 't'\n",
    "print(L)\n",
    "print(Lidentique) # Pas de problème les listes sont indépendantes"
   ]
  },
  {
   "cell_type": "markdown",
   "metadata": {},
   "source": [
    "### En revanche :"
   ]
  },
  {
   "cell_type": "code",
   "execution_count": 7,
   "metadata": {},
   "outputs": [
    {
     "name": "stdout",
     "output_type": "stream",
     "text": [
      "4489677184\n",
      "4489677184\n"
     ]
    }
   ],
   "source": [
    "L = ['s','a',47,['salut']]\n",
    "L2 = L \n",
    "print(id(L))\n",
    "print(id(L2)) # même identifiant"
   ]
  },
  {
   "cell_type": "markdown",
   "metadata": {},
   "source": [
    "### Conclusion : l'instruction L2 = L ne copie pas le contenu des listes mais construit un alias (L2 est juste un autre nom pour la liste L).\n",
    "\n",
    "### Pour copier le contenu , on doit dire à Python de copier chaque élément de la liste :"
   ]
  },
  {
   "cell_type": "code",
   "execution_count": 11,
   "metadata": {},
   "outputs": [
    {
     "name": "stdout",
     "output_type": "stream",
     "text": [
      "4489779264\n",
      "4489918528\n"
     ]
    }
   ],
   "source": [
    "L = ['s','a',47,['salut']]\n",
    "\n",
    "L2 = L[:] # Ce : permet de copier le contenu\n",
    "print(id(L))\n",
    "print(id(L2)) # Et maintenant ?"
   ]
  },
  {
   "cell_type": "markdown",
   "metadata": {},
   "source": [
    "### Les listes sont maintenant différentes donc on peut les changer indépendamment"
   ]
  },
  {
   "cell_type": "code",
   "execution_count": 12,
   "metadata": {},
   "outputs": [
    {
     "name": "stdout",
     "output_type": "stream",
     "text": [
      "['s', 'a', 21, ['salut']]\n",
      "['s', 'a', 47, ['salut']]\n"
     ]
    }
   ],
   "source": [
    "L [2] = 21\n",
    "print(L)\n",
    "print(L2)"
   ]
  },
  {
   "cell_type": "markdown",
   "metadata": {},
   "source": [
    "### A moins que ..."
   ]
  },
  {
   "cell_type": "code",
   "execution_count": 14,
   "metadata": {},
   "outputs": [
    {
     "name": "stdout",
     "output_type": "stream",
     "text": [
      "['s', 'a', 21, ['plop']]\n",
      "['s', 'a', 47, ['plop']]\n",
      "\n",
      "4490655600\n",
      "4490655600\n"
     ]
    }
   ],
   "source": [
    "L[-1][0]='plop'\n",
    "print(L)\n",
    "print(L2)\n",
    "\n",
    "print()\n",
    "print(id(L[-1][0]))\n",
    "print(id(L2[-1][0]))"
   ]
  },
  {
   "cell_type": "markdown",
   "metadata": {},
   "source": [
    "### La copie L2 = L[:] est appelée shallow copy (copie superficielle). Elle va recopier chaque élément de la liste (ce qui permet de les modifier indépendamment). \n",
    "\n",
    "### MAIS ATTENTION : Lorsque l'un de ces objets est une liste, la copie ne permet pas de les rendre indépendantes:"
   ]
  },
  {
   "cell_type": "code",
   "execution_count": null,
   "metadata": {},
   "outputs": [],
   "source": [
    "print(L[-1])\n",
    "\n",
    "print(id(L[-1]))\n",
    "print(id(L2[-1])) # Même adresse"
   ]
  },
  {
   "cell_type": "markdown",
   "metadata": {},
   "source": [
    "## Solution : Faire une copy profonde (deep copy) pour rendre les objets indépendants :"
   ]
  },
  {
   "cell_type": "code",
   "execution_count": 15,
   "metadata": {},
   "outputs": [
    {
     "name": "stdout",
     "output_type": "stream",
     "text": [
      "['s', 'a', 21, ['plop']]\n",
      "['s', 'a', 21, ['plop']]\n",
      "['s', 'a', 21, ['mot changé']]\n"
     ]
    }
   ],
   "source": [
    "import copy \n",
    "\n",
    "\n",
    "print(L)\n",
    "Lp=copy.deepcopy(L)\n",
    "Lp[-1][0] = 'mot changé'\n",
    "print(L)\n",
    "print(Lp) # Maintenant les listes sont entièrement différentes"
   ]
  },
  {
   "cell_type": "markdown",
   "metadata": {},
   "source": [
    "# Conclusions :\n",
    "\n",
    "* ### La copie simple L2 = L est à bannir, il faut lui préférer L2 = L[:] qui est la copie \"telle qu'on se l'imagine\". \n",
    "* ### Dans le cas de listes de listes : cette copie n'est pas suffisante, il est nécessaire d'utiliser une librairie externe (copy) qui permet de faire une copie profonde.\n",
    "* ### Dans la vraie vie : (TIPE / codes perso ) - ces phénomènes peuvent induire des bugs durs à détecter / comprendre. C'est pourquoi on fait ce cours\n",
    "* ### Au concours, pas d'angoisse personne n'y pensera, pas même le correcteur. \n"
   ]
  },
  {
   "cell_type": "markdown",
   "metadata": {},
   "source": [
    "#### Et un dernier mystère :"
   ]
  },
  {
   "cell_type": "code",
   "execution_count": 19,
   "metadata": {},
   "outputs": [
    {
     "name": "stdout",
     "output_type": "stream",
     "text": [
      "4489811328\n",
      "[1, 2]\n",
      "4489779264\n"
     ]
    }
   ],
   "source": [
    "L=[1,2]\n",
    "print(id(L))\n",
    "L2 = L +[]\n",
    "print(L)\n",
    "print(id(L2))\n",
    "# Même identifiant? "
   ]
  },
  {
   "cell_type": "code",
   "execution_count": 20,
   "metadata": {},
   "outputs": [
    {
     "name": "stdout",
     "output_type": "stream",
     "text": [
      "4489953152\n",
      "[1, 2, 3]\n",
      "4489953152\n"
     ]
    }
   ],
   "source": [
    "L=[1,2]\n",
    "print(id(L))\n",
    "L += [3]\n",
    "print(L)\n",
    "print(id(L))\n",
    "# Même identifiant? "
   ]
  },
  {
   "cell_type": "code",
   "execution_count": null,
   "metadata": {},
   "outputs": [],
   "source": [
    "# Explication : += est en réalité un alias sur les méthodes __iadd__ ou __add__ \n",
    "# qui existent dans les objets python celles-ci expliquent comment faire une addition avec cet objet.\n",
    "# Pour les listes, en réalité __iadd__() renvoie sur la méthode append() qui modifie la liste en ajoutant \n",
    "# un élément. Donc += équivaut à append (et ne change pas l'identifiant de la liste)"
   ]
  },
  {
   "cell_type": "code",
   "execution_count": null,
   "metadata": {},
   "outputs": [],
   "source": [
    "a = 1\n",
    "b = a.__add__(2)\n",
    "print(b)\n",
    "\n",
    "L = [1]\n",
    "L.__iadd__([2])\n",
    "print(L)"
   ]
  },
  {
   "cell_type": "code",
   "execution_count": null,
   "metadata": {},
   "outputs": [],
   "source": [
    "help(L.__iadd__)"
   ]
  },
  {
   "cell_type": "code",
   "execution_count": null,
   "metadata": {},
   "outputs": [],
   "source": []
  }
 ],
 "metadata": {
  "kernelspec": {
   "display_name": "Python 3",
   "language": "python",
   "name": "python3"
  },
  "language_info": {
   "codemirror_mode": {
    "name": "ipython",
    "version": 3
   },
   "file_extension": ".py",
   "mimetype": "text/x-python",
   "name": "python",
   "nbconvert_exporter": "python",
   "pygments_lexer": "ipython3",
   "version": "3.9.0"
  }
 },
 "nbformat": 4,
 "nbformat_minor": 4
}
