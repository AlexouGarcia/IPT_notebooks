{
 "cells": [
  {
   "cell_type": "markdown",
   "metadata": {},
   "source": [
    "### Plan\n",
    "\n",
    "* Définition de fonctions\n",
    "* Portée des variables\n",
    "* Spécification de fonctions\n",
    "* Modules"
   ]
  },
  {
   "cell_type": "markdown",
   "metadata": {},
   "source": [
    "# Définition de fonctions"
   ]
  },
  {
   "cell_type": "markdown",
   "metadata": {},
   "source": [
    "## Les entrées / sorties\n",
    "\n",
    "Les fonctions sont des objets python qui prennent en entrée un certain nombre de variables (dites variables d'entrée ou encore arguments de la fonction) et renvoie des variables de sortie"
   ]
  },
  {
   "cell_type": "code",
   "execution_count": 1,
   "metadata": {},
   "outputs": [],
   "source": [
    "def mafonction(entree1,entree2):\n",
    "    ''' Code situé dans la fonction'''\n",
    "    print('nous voilà dans la fonction')\n",
    "    somme = entree1 + entree2 # Si les entrées ne sont pas des objets sommables, la fonction plantera\n",
    "    return somme # Le résultat renvoyé est la somme des 2 valeurs d'entrée de la fonction"
   ]
  },
  {
   "cell_type": "code",
   "execution_count": null,
   "metadata": {},
   "outputs": [],
   "source": []
  },
  {
   "cell_type": "markdown",
   "metadata": {},
   "source": [
    "#### Remarque : Nous avons défini une fonction mais nous ne l'avons pas utilisé, rien ne s'est affiché. Pour l'utiliser on doit passer des valeurs dans les variables d'entrée et récupérer les sorties:"
   ]
  },
  {
   "cell_type": "code",
   "execution_count": 2,
   "metadata": {},
   "outputs": [
    {
     "name": "stdout",
     "output_type": "stream",
     "text": [
      "nous voilà dans la fonction\n"
     ]
    }
   ],
   "source": [
    "var1 = 4\n",
    "var2 = 6\n",
    "\n",
    "resultat = mafonction(var1,var2) # le contenu de var1 est passé dans entree1, \n",
    "# le contenu de var2 est passé dans entree2 et le contenu de la variable somme calculé dans la fonction\n",
    "# est retourné est placé dans la variable resultat"
   ]
  },
  {
   "cell_type": "markdown",
   "metadata": {},
   "source": [
    "Remarque : Cette fois nous avons utilisé la fonction mais son résultat n'a pas été affiché. Il a seulement été placé dans la variable resultat. Pour l'afficher il faut le demander explicitement à python"
   ]
  },
  {
   "cell_type": "code",
   "execution_count": 3,
   "metadata": {},
   "outputs": [
    {
     "name": "stdout",
     "output_type": "stream",
     "text": [
      "10\n"
     ]
    }
   ],
   "source": [
    "print(resultat)"
   ]
  },
  {
   "cell_type": "markdown",
   "metadata": {},
   "source": [
    "#### Différentes choses qui génèrent une erreur\n",
    "* Ne pas stocker le résultat dans une variable en pensant que le contenu du return sera malgré tout accessible\n",
    "* Mettre le mauvais nombre d'entrée dans la fonction\n",
    "* Mettre des entrées qui ne sont pas compatibles avec ce que fait la fonction\n",
    "* Définir (et non pas utiliser ça c'est pas un problème) une fonction avec des entrées constantes (ça n'a aucun sens)"
   ]
  },
  {
   "cell_type": "code",
   "execution_count": 4,
   "metadata": {},
   "outputs": [
    {
     "name": "stdout",
     "output_type": "stream",
     "text": [
      "nous voilà dans la fonction\n"
     ]
    },
    {
     "ename": "NameError",
     "evalue": "name 'somme' is not defined",
     "output_type": "error",
     "traceback": [
      "\u001b[0;31m---------------------------------------------------------------------------\u001b[0m",
      "\u001b[0;31mNameError\u001b[0m                                 Traceback (most recent call last)",
      "\u001b[0;32m<ipython-input-4-a936b6fe6047>\u001b[0m in \u001b[0;36m<module>\u001b[0;34m\u001b[0m\n\u001b[1;32m      1\u001b[0m \u001b[0;31m#Cas 1 tenter d'accéder à une variable dans la fonction:\u001b[0m\u001b[0;34m\u001b[0m\u001b[0;34m\u001b[0m\u001b[0m\n\u001b[1;32m      2\u001b[0m \u001b[0mmafonction\u001b[0m\u001b[0;34m(\u001b[0m\u001b[0mvar1\u001b[0m\u001b[0;34m,\u001b[0m\u001b[0mvar2\u001b[0m\u001b[0;34m)\u001b[0m\u001b[0;34m\u001b[0m\u001b[0m\n\u001b[0;32m----> 3\u001b[0;31m \u001b[0mprint\u001b[0m\u001b[0;34m(\u001b[0m\u001b[0msomme\u001b[0m\u001b[0;34m)\u001b[0m \u001b[0;31m# Ca ne marche pas car la variable somme n'existe que dans la fonction et non dehors\u001b[0m\u001b[0;34m\u001b[0m\u001b[0m\n\u001b[0m",
      "\u001b[0;31mNameError\u001b[0m: name 'somme' is not defined"
     ]
    }
   ],
   "source": [
    "#Cas 1 tenter d'accéder à une variable dans la fonction: \n",
    "mafonction(var1,var2)\n",
    "print(somme) # Ca ne marche pas car la variable somme n'existe que dans la fonction et non dehors"
   ]
  },
  {
   "cell_type": "code",
   "execution_count": 5,
   "metadata": {},
   "outputs": [
    {
     "ename": "TypeError",
     "evalue": "mafonction() missing 1 required positional argument: 'entree2'",
     "output_type": "error",
     "traceback": [
      "\u001b[0;31m---------------------------------------------------------------------------\u001b[0m",
      "\u001b[0;31mTypeError\u001b[0m                                 Traceback (most recent call last)",
      "\u001b[0;32m<ipython-input-5-ef88a6ec9165>\u001b[0m in \u001b[0;36m<module>\u001b[0;34m\u001b[0m\n\u001b[1;32m      1\u001b[0m \u001b[0;31m#Cas 2 mettre le mauvais nombre d'entrées\u001b[0m\u001b[0;34m\u001b[0m\u001b[0;34m\u001b[0m\u001b[0m\n\u001b[0;32m----> 2\u001b[0;31m \u001b[0mresultat\u001b[0m \u001b[0;34m=\u001b[0m \u001b[0mmafonction\u001b[0m\u001b[0;34m(\u001b[0m\u001b[0mvar1\u001b[0m\u001b[0;34m)\u001b[0m\u001b[0;34m\u001b[0m\u001b[0m\n\u001b[0m",
      "\u001b[0;31mTypeError\u001b[0m: mafonction() missing 1 required positional argument: 'entree2'"
     ]
    }
   ],
   "source": [
    "#Cas 2 mettre le mauvais nombre d'entrées\n",
    "resultat = mafonction(var1)"
   ]
  },
  {
   "cell_type": "code",
   "execution_count": 6,
   "metadata": {},
   "outputs": [
    {
     "name": "stdout",
     "output_type": "stream",
     "text": [
      "nous voilà dans la fonction\n"
     ]
    },
    {
     "ename": "TypeError",
     "evalue": "unsupported operand type(s) for +: 'int' and 'str'",
     "output_type": "error",
     "traceback": [
      "\u001b[0;31m---------------------------------------------------------------------------\u001b[0m",
      "\u001b[0;31mTypeError\u001b[0m                                 Traceback (most recent call last)",
      "\u001b[0;32m<ipython-input-6-2b06f2a3f5a9>\u001b[0m in \u001b[0;36m<module>\u001b[0;34m\u001b[0m\n\u001b[1;32m      1\u001b[0m \u001b[0;31m#Cas 3 Mettre des entrées non compatibles\u001b[0m\u001b[0;34m\u001b[0m\u001b[0;34m\u001b[0m\u001b[0m\n\u001b[1;32m      2\u001b[0m \u001b[0mvar3\u001b[0m \u001b[0;34m=\u001b[0m \u001b[0;34m'bambou'\u001b[0m\u001b[0;34m\u001b[0m\u001b[0m\n\u001b[0;32m----> 3\u001b[0;31m \u001b[0mmafonction\u001b[0m\u001b[0;34m(\u001b[0m\u001b[0mvar1\u001b[0m\u001b[0;34m,\u001b[0m\u001b[0mvar3\u001b[0m\u001b[0;34m)\u001b[0m\u001b[0;34m\u001b[0m\u001b[0m\n\u001b[0m",
      "\u001b[0;32m<ipython-input-1-d7ce7760803c>\u001b[0m in \u001b[0;36mmafonction\u001b[0;34m(entree1, entree2)\u001b[0m\n\u001b[1;32m      2\u001b[0m     \u001b[0;34m''' Code situé dans la fonction'''\u001b[0m\u001b[0;34m\u001b[0m\u001b[0m\n\u001b[1;32m      3\u001b[0m     \u001b[0mprint\u001b[0m\u001b[0;34m(\u001b[0m\u001b[0;34m'nous voilà dans la fonction'\u001b[0m\u001b[0;34m)\u001b[0m\u001b[0;34m\u001b[0m\u001b[0m\n\u001b[0;32m----> 4\u001b[0;31m     \u001b[0msomme\u001b[0m \u001b[0;34m=\u001b[0m \u001b[0mentree1\u001b[0m \u001b[0;34m+\u001b[0m \u001b[0mentree2\u001b[0m \u001b[0;31m# Si les entrées ne sont pas des objets sommables, la fonction plantera\u001b[0m\u001b[0;34m\u001b[0m\u001b[0m\n\u001b[0m\u001b[1;32m      5\u001b[0m     \u001b[0;32mreturn\u001b[0m \u001b[0msomme\u001b[0m \u001b[0;31m# Le résultat renvoyé est la somme des 2 valeurs d'entrée de la fonction\u001b[0m\u001b[0;34m\u001b[0m\u001b[0m\n",
      "\u001b[0;31mTypeError\u001b[0m: unsupported operand type(s) for +: 'int' and 'str'"
     ]
    }
   ],
   "source": [
    "#Cas 3 Mettre des entrées non compatibles\n",
    "var3 = 'bambou'\n",
    "mafonction(var1,var3)"
   ]
  },
  {
   "cell_type": "code",
   "execution_count": 7,
   "metadata": {},
   "outputs": [
    {
     "ename": "SyntaxError",
     "evalue": "invalid syntax (<ipython-input-7-9f508053f198>, line 3)",
     "output_type": "error",
     "traceback": [
      "\u001b[0;36m  File \u001b[0;32m\"<ipython-input-7-9f508053f198>\"\u001b[0;36m, line \u001b[0;32m3\u001b[0m\n\u001b[0;31m    def fonction_plante(var,2):\u001b[0m\n\u001b[0m                            ^\u001b[0m\n\u001b[0;31mSyntaxError\u001b[0m\u001b[0;31m:\u001b[0m invalid syntax\n"
     ]
    }
   ],
   "source": [
    "#Cas 4 Définition d'une fonction avec des constantes\n",
    "\n",
    "def fonction_plante(var,2):\n",
    "    return var\n"
   ]
  },
  {
   "cell_type": "markdown",
   "metadata": {},
   "source": [
    "## Arguments par défaut et entrées de taille variable\n",
    "\n",
    "Il est possible de spécifier des arguments utilisés par défaut en entrée d'une fonction. Ceci permet de compléter les entrées de la fonction non fournies à l'utilisation"
   ]
  },
  {
   "cell_type": "code",
   "execution_count": 8,
   "metadata": {},
   "outputs": [],
   "source": [
    "def incremente(valeur,inc=1,returninc=False): # Arguments par défaut\n",
    "    '''Cette fonction incrémente (augmente) la variable valeur du nombre inc. \n",
    "    Celui-ci vaudra par défaut 1 si l utilisateur ne donne qu ne variable d entrée\n",
    "    elle renvoie un couple contenant la nouvelle valeur et celle de inc si returninc vaut True '''\n",
    "    if returninc:\n",
    "        return (valeur+inc,inc)\n",
    "    else:\n",
    "        return valeur+inc"
   ]
  },
  {
   "cell_type": "code",
   "execution_count": 9,
   "metadata": {},
   "outputs": [],
   "source": [
    "resultat1 = incremente(10)\n",
    "resultat2 = incremente(10,2)\n",
    "resultat3 = incremente(10,2,True)"
   ]
  },
  {
   "cell_type": "code",
   "execution_count": 10,
   "metadata": {},
   "outputs": [
    {
     "name": "stdout",
     "output_type": "stream",
     "text": [
      "11\n",
      "12\n",
      "(12, 2)\n"
     ]
    }
   ],
   "source": [
    "print(resultat1)\n",
    "print(resultat2)\n",
    "print(resultat3)"
   ]
  },
  {
   "cell_type": "markdown",
   "metadata": {},
   "source": [
    "#### Bonne pratique \n",
    "Dans le cas de fonctions avec des arguments par défaut, il est possible et conseillé de spécifier la variable par défaut que l'on souhaite remplacer:"
   ]
  },
  {
   "cell_type": "code",
   "execution_count": 11,
   "metadata": {},
   "outputs": [
    {
     "name": "stdout",
     "output_type": "stream",
     "text": [
      "(12, 2)\n",
      "(11, 1)\n"
     ]
    }
   ],
   "source": [
    "resultat3 = incremente(10,inc=2,returninc=True)\n",
    "resultat4 = incremente(10,returninc=True) # impossible à faire sans spécification explicite de l'entrée à remplacer\n",
    "print(resultat3)\n",
    "print(resultat4)"
   ]
  },
  {
   "cell_type": "markdown",
   "metadata": {},
   "source": [
    "#### Bonne pratique (plus générale, pas uniquement vrai pour les arguments par défaut) \n",
    "Spécifier la variable à remplacer dans les entrées notamment quand c'est pas clair / quand le nom de la variable d'entrée indique sa fonction"
   ]
  },
  {
   "cell_type": "code",
   "execution_count": 12,
   "metadata": {},
   "outputs": [
    {
     "name": "stdout",
     "output_type": "stream",
     "text": [
      "nous voilà dans la fonction\n",
      "ab\n",
      "nous voilà dans la fonction\n",
      "ba\n"
     ]
    }
   ],
   "source": [
    "# rappel :\n",
    "def mafonction(entree1,entree2):\n",
    "    ''' Code situé dans la fonction'''\n",
    "    print('nous voilà dans la fonction')\n",
    "    somme = entree1 + entree2 # Si les entrées ne sont pas des objets sommables, la fonction plantera\n",
    "    return somme # Le résultat renvoyé est la somme des 2 valeurs d'entrée de la fonction\n",
    "\n",
    "\n",
    "print(mafonction(entree1='a',entree2='b')) # le résultat de 'a' + 'b' est 'ab'\n",
    "print(mafonction(entree2='a',entree1='b')) # ici on a explicitement interverti les entrées"
   ]
  },
  {
   "cell_type": "markdown",
   "metadata": {},
   "source": [
    "Enfin on peut écrire des fonctions qui n'ont pas de variable d'entrée ni même de sorite, par exemple la formidable fonction patate définie ci-après qui n'attend pas d'entrée de renvoie pas de sortie et affiche patate. \n"
   ]
  },
  {
   "cell_type": "code",
   "execution_count": 13,
   "metadata": {},
   "outputs": [
    {
     "name": "stdout",
     "output_type": "stream",
     "text": [
      "patate\n",
      "None\n"
     ]
    }
   ],
   "source": [
    "def patate():\n",
    "    print('patate')\n",
    "    return  # Ce return ne sert à rien mais on le met quand même, c'est une bonne pratique\n",
    "\n",
    "resultat = patate() # Pas de variable d'entrée dans patate ni de sortie mais alors que contient resultat ?\n",
    "print(resultat) # Comme prévu, rien"
   ]
  },
  {
   "cell_type": "markdown",
   "metadata": {},
   "source": [
    "## Le cas des sorties de tailles variables\n",
    "On l'a déjà vu pour la fonction incrémente: python peut stocker un couple / trouple (plus généralement appelé tuple) d'objets dans la variable qui reçoit la sortie"
   ]
  },
  {
   "cell_type": "code",
   "execution_count": 14,
   "metadata": {},
   "outputs": [
    {
     "name": "stdout",
     "output_type": "stream",
     "text": [
      "(12, 2)\n",
      "on récupère chaque partie:\n",
      "12\n",
      "2\n",
      "ou alors on sépare directement le résultat en sortie de la fonction\n",
      "12\n",
      "2\n"
     ]
    }
   ],
   "source": [
    "resultat3 = incremente(10,inc=2,returninc=True)\n",
    "print(resultat3)\n",
    "print('on récupère chaque partie:')\n",
    "premier_resultat = resultat3[0] # On peut récupérer chacun des éléments a posteriori en \n",
    "# connaissant leur position dans le tupe, ici 0.\n",
    "second_resultat = resultat3[1]\n",
    "print(premier_resultat)\n",
    "print(second_resultat)\n",
    "\n",
    "print('ou alors on sépare directement le résultat en sortie de la fonction')\n",
    "# On peut aussi récupérer directement les 2 valeurs en spécifiant une liaison destructurante:\n",
    "premier_bout,deuxieme_bout = incremente(10,inc=2,returninc=True) # destructuration à gauche\n",
    "print(premier_bout)\n",
    "print(deuxieme_bout)"
   ]
  },
  {
   "cell_type": "markdown",
   "metadata": {},
   "source": [
    "#### Mauvaise pratique \n",
    "Faire une destructuration alors que le nombre de sorties d'une fonction peut changer: le risque est de se retrouver dans un cas où le nombre de variables renvoyées par la fonction est différent du nombre de variables qui reçoivent les valeurs"
   ]
  },
  {
   "cell_type": "code",
   "execution_count": 15,
   "metadata": {},
   "outputs": [],
   "source": [
    "premier_bout, deuxieme_bout = incremente(10,inc=2,returninc=True) # destructuration correcte la fonction \n",
    "# renvoie 2 valeurs"
   ]
  },
  {
   "cell_type": "code",
   "execution_count": 16,
   "metadata": {},
   "outputs": [
    {
     "ename": "TypeError",
     "evalue": "'int' object is not iterable",
     "output_type": "error",
     "traceback": [
      "\u001b[0;31m---------------------------------------------------------------------------\u001b[0m",
      "\u001b[0;31mTypeError\u001b[0m                                 Traceback (most recent call last)",
      "\u001b[0;32m<ipython-input-16-78523f190e1f>\u001b[0m in \u001b[0;36m<module>\u001b[0;34m\u001b[0m\n\u001b[0;32m----> 1\u001b[0;31m \u001b[0mpremier_bout\u001b[0m\u001b[0;34m,\u001b[0m \u001b[0mdeuxieme_bout\u001b[0m \u001b[0;34m=\u001b[0m \u001b[0mincremente\u001b[0m\u001b[0;34m(\u001b[0m\u001b[0;36m10\u001b[0m\u001b[0;34m,\u001b[0m\u001b[0minc\u001b[0m\u001b[0;34m=\u001b[0m\u001b[0;36m2\u001b[0m\u001b[0;34m,\u001b[0m\u001b[0mreturninc\u001b[0m\u001b[0;34m=\u001b[0m\u001b[0;32mFalse\u001b[0m\u001b[0;34m)\u001b[0m \u001b[0;31m# ne renvoie qu'une variable donc erreur\u001b[0m\u001b[0;34m\u001b[0m\u001b[0m\n\u001b[0m",
      "\u001b[0;31mTypeError\u001b[0m: 'int' object is not iterable"
     ]
    }
   ],
   "source": [
    "premier_bout, deuxieme_bout = incremente(10,inc=2,returninc=False) # ne renvoie qu'une variable donc erreur"
   ]
  },
  {
   "cell_type": "markdown",
   "metadata": {},
   "source": [
    "# Portée des variables\n",
    "\n",
    "Les variables dans une fonction et celles hors de la fonction ne communiquent qu'au travers des entrées et des sorties et ce même si elles ont le même nom. "
   ]
  },
  {
   "cell_type": "code",
   "execution_count": 17,
   "metadata": {},
   "outputs": [
    {
     "name": "stdout",
     "output_type": "stream",
     "text": [
      "1\n",
      "1\n",
      "1\n",
      "3\n",
      "1\n",
      "3\n"
     ]
    }
   ],
   "source": [
    "# Prévoir ce qu'affichera le code \n",
    "a = 1\n",
    "print(a)\n",
    "def mafonction(a):\n",
    "    print(a)\n",
    "    a=3\n",
    "    print(a)\n",
    "    return a\n",
    "print(a)\n",
    "\n",
    "b = mafonction(a)\n",
    "print(a)\n",
    "print(b)"
   ]
  },
  {
   "cell_type": "code",
   "execution_count": null,
   "metadata": {},
   "outputs": [],
   "source": []
  },
  {
   "cell_type": "code",
   "execution_count": 18,
   "metadata": {},
   "outputs": [
    {
     "name": "stdout",
     "output_type": "stream",
     "text": [
      "1 le a du dehors\n",
      "1 toujours le a du dehors (on a déclaré la fonction mais pas utilisé)\n",
      "1 On a mis 4 en entrée de la fonction, valeur placée dans une nouvelle variable appelée a\n",
      "3 on a changé sa valeur mais ça reste le a du dedans\n",
      "1 on a créé un nouveau a qui contenait la valeur calculée avec le a du dedans\n",
      "3 et voilà le résultat de la fonction\n",
      "\n",
      "conclusion: les variables dans et hors de la fonction sont totalement indépendantes même si elles ont même nom\n"
     ]
    }
   ],
   "source": [
    "a = 1\n",
    "print(a,'le a du dehors')\n",
    "def mafonction(a):\n",
    "    print(a,'On a mis 4 en entrée de la fonction, valeur placée dans une nouvelle variable appelée a')\n",
    "    a=3\n",
    "    print(a, 'on a changé sa valeur mais ça reste le a du dedans')\n",
    "    return a\n",
    "print(a,'toujours le a du dehors (on a déclaré la fonction mais pas utilisé)')\n",
    "\n",
    "b = mafonction(a)\n",
    "print(a,'on a créé un nouveau a qui contenait la valeur calculée avec le a du dedans')\n",
    "print(b,'et voilà le résultat de la fonction')\n",
    "print()\n",
    "print('conclusion: les variables dans et hors de la fonction sont totalement indépendantes même si elles ont même nom')"
   ]
  },
  {
   "cell_type": "markdown",
   "metadata": {},
   "source": [
    "#### Parfois on souhaite quand même partager une variable entre l'intérieur et l'extérieur de la fonction (ce sera utile notamment pour générer des animations). Une telle variable est appelée variable globale (par opposition aux variables locales définies dans la fonction uniquement)\n",
    "\n",
    "### C'est en général une mauvaise pratique, à ne réserver que pour les cas où on ne peut pas faire autrement et ils sont très rares"
   ]
  },
  {
   "cell_type": "code",
   "execution_count": 19,
   "metadata": {},
   "outputs": [
    {
     "name": "stdout",
     "output_type": "stream",
     "text": [
      "4\n",
      "-2\n"
     ]
    }
   ],
   "source": [
    "var_glob = 4\n",
    "\n",
    "def fonction_avec_un_trou():\n",
    "    global var_glob # On fait le tunnel avec la variable var_glob\n",
    "    var_glob = -2 # Ca modifie la variable hors de la fonction\n",
    "    return \n",
    "\n",
    "print(var_glob)\n",
    "fonction_avec_un_trou() \n",
    "print(var_glob)"
   ]
  },
  {
   "cell_type": "markdown",
   "metadata": {},
   "source": [
    "### Une exception ... Les listes elles peuvent être modifiées et les modifications survivent  à la traversée de la fonction. Nous reverrons ça au chapître sur les listes"
   ]
  },
  {
   "cell_type": "code",
   "execution_count": 20,
   "metadata": {},
   "outputs": [
    {
     "name": "stdout",
     "output_type": "stream",
     "text": [
      "[1]\n",
      "changement magique\n"
     ]
    }
   ],
   "source": [
    "\n",
    "\n",
    "L = [0]\n",
    "\n",
    "def fonction_magique(liste):\n",
    "    liste[0] = 1\n",
    "    return 'changement magique'\n",
    "\n",
    "message = fonction_magique(L)\n",
    "print(L)\n",
    "print(message)"
   ]
  },
  {
   "cell_type": "markdown",
   "metadata": {},
   "source": [
    "## Une dernière exception la plus perfide de toutes: Python peut aller chercher une variable à l'extérieur de son espace d'éxecution lorsque celà permet d'éviter de générer une erreur. Ce fonctionnement est incontrôlable et il est important de l'éviter en passant explicitement en entrée de la fonction toutes les variables qui sont utilisées à l'intérieur."
   ]
  },
  {
   "cell_type": "code",
   "execution_count": 21,
   "metadata": {},
   "outputs": [],
   "source": [
    "variable_qui_ne_devrait_pas_etre_dans_la_fonction = 'et pourtant je suis dedans'\n",
    "\n",
    "def fonction_qui_plante_pas(variable_entree):\n",
    "    print(variable_entree)\n",
    "    return\n"
   ]
  },
  {
   "cell_type": "code",
   "execution_count": 22,
   "metadata": {},
   "outputs": [
    {
     "name": "stdout",
     "output_type": "stream",
     "text": [
      "et pourtant je suis dedans\n"
     ]
    }
   ],
   "source": [
    "fonction_qui_plante_pas(variable_qui_ne_devrait_pas_etre_dans_la_fonction)"
   ]
  },
  {
   "cell_type": "code",
   "execution_count": 23,
   "metadata": {},
   "outputs": [
    {
     "name": "stdout",
     "output_type": "stream",
     "text": [
      "Help on built-in function sqrt in module math:\n",
      "\n",
      "sqrt(...)\n",
      "    sqrt(x)\n",
      "    \n",
      "    Return the square root of x.\n",
      "\n"
     ]
    }
   ],
   "source": [
    "from math import sqrt\n",
    "\n",
    "help(sqrt)"
   ]
  },
  {
   "cell_type": "markdown",
   "metadata": {},
   "source": [
    "# Spécification de fonctions\n",
    "\n",
    "Un bon code est un code bien commenté. Dans le cas des fonctions python, la documentation s'écrit juste après l'entête et est écrite entre ''' triple quotes '''. La documentation doit spécifier la nature des entrées, celle des sorties et le fonctionnement général de la fonction. Le programme n'impose pas de syntaxe particulière pour cette documentation. "
   ]
  },
  {
   "cell_type": "code",
   "execution_count": 24,
   "metadata": {},
   "outputs": [],
   "source": [
    "def carre(a):\n",
    "    '''entree : a nombre flottant\n",
    "    sortie : carré de la valeur passée en argument'''\n",
    "    return a ** 2 "
   ]
  },
  {
   "cell_type": "code",
   "execution_count": 25,
   "metadata": {},
   "outputs": [
    {
     "name": "stdout",
     "output_type": "stream",
     "text": [
      "Help on function carre in module __main__:\n",
      "\n",
      "carre(a)\n",
      "    entree : a nombre flottant\n",
      "    sortie : carré de la valeur passée en argument\n",
      "\n"
     ]
    }
   ],
   "source": [
    "help(carre)"
   ]
  },
  {
   "cell_type": "markdown",
   "metadata": {},
   "source": [
    "#### Exemple :\n",
    "\n",
    "Ecrire la documentation de la fonction suivante:"
   ]
  },
  {
   "cell_type": "code",
   "execution_count": 26,
   "metadata": {},
   "outputs": [],
   "source": [
    "def est_un_multiple(a,b):\n",
    "    ''' Aide à compléter '''\n",
    "    return a%b == 0 or b%a == 0"
   ]
  },
  {
   "cell_type": "markdown",
   "metadata": {},
   "source": [
    "### Le cas des sujets Centrale - Supelec\n",
    "Ces épreuves sont écrites de manière à spécifier explicitement les types et les noms des variables d'entrée de vos fonctions. Les questions s'écrivent sous la forme:\n",
    "\n",
    "Ecrire la fonction d'entête\n",
    "\n",
    "def conversion(a:float) -> int:\n",
    "\n",
    "Ici float ou int pourraient être remplacés par n'importe quel autre type Python (list, str, ... c.f. chapitre typage à venir). Cette syntaxe bizare est reconnue par python et apparaîtra si on appelle l'aide. Certains interpréteurs (pycharm) déclenchent même une alerte si les types indiqués ne sont pas respectés lors de l'utilisation de la fonction "
   ]
  },
  {
   "cell_type": "code",
   "execution_count": 27,
   "metadata": {},
   "outputs": [],
   "source": [
    "def conversion(a:float) -> int:\n",
    "    '''entrées : a -> nombre flottant\n",
    "    sorties : conversion en entier de l entrée'''\n",
    "    valeur_out = int(a) # La fonction int() effectue la conversion\n",
    "    return valeur_out"
   ]
  },
  {
   "cell_type": "code",
   "execution_count": 28,
   "metadata": {},
   "outputs": [
    {
     "name": "stdout",
     "output_type": "stream",
     "text": [
      "Help on function conversion in module __main__:\n",
      "\n",
      "conversion(a:float) -> int\n",
      "    entrées : a -> nombre flottant\n",
      "    sorties : conversion en entier de l entrée\n",
      "\n"
     ]
    }
   ],
   "source": [
    "help(conversion)"
   ]
  },
  {
   "cell_type": "markdown",
   "metadata": {},
   "source": [
    "# Module et importation de fonctions préexistantes\n",
    "\n",
    "Etre un programmeur efficace, c'est aussi savoir réutiliser intelligemment le travail d'autres programmeurs qui ont passé du temps pour écrire des fonctions d'intérêt général. Ces fonctions de qualité professionelle seront toujours plus efficaces que les votres. Soit parce qu'elles sont mieux écrites. Soit parce qu'elles ont été écrites dans un autre langage plus rapide et seulement appelées depuis python. Ces fonctions sont regroupés dans des fichiers .py appelés modules et il faut donc spécifier à votre environnement que vous souhaitez les utiliser. La syntaxe générale est la suivante:\n",
    "\n",
    "from module import nom_fonction\n",
    "\n",
    "On utilisera très souvent les modules \n",
    "* matplotlib (tracé de figures)\n",
    "* numpy (calcul numérique, notamment vectoriel)\n",
    "* scipy (probabilités, statistiques, traitement du signal)\n",
    "\n",
    "D'autres modules d'intérêt plus ponctuel peuvent être évoqués\n",
    "* urllib (acces au contenu sur une page internet)\n",
    "* dynamixel (commande de servomoteurs - T.P. de SI)\n",
    "* sklearn (modèles prédictifs / I.A.)\n"
   ]
  },
  {
   "cell_type": "code",
   "execution_count": 29,
   "metadata": {},
   "outputs": [
    {
     "name": "stdout",
     "output_type": "stream",
     "text": [
      "[1.         1.41421356 1.73205081 2.        ]\n"
     ]
    }
   ],
   "source": [
    "from numpy import sqrt # numpy contient entre autres toutes les fonctions du module maths sauf \n",
    "# que dans numpy elles marchent sur les nombre mais aussi sur les listes de nombres.\n",
    "r2 = sqrt([1,2,3,4])\n",
    "print(r2)"
   ]
  },
  {
   "cell_type": "markdown",
   "metadata": {},
   "source": [
    "Si on importe une fonction du même nom depuis un autre module, on écrase la version précédente"
   ]
  },
  {
   "cell_type": "code",
   "execution_count": 30,
   "metadata": {},
   "outputs": [
    {
     "ename": "TypeError",
     "evalue": "a float is required",
     "output_type": "error",
     "traceback": [
      "\u001b[0;31m---------------------------------------------------------------------------\u001b[0m",
      "\u001b[0;31mTypeError\u001b[0m                                 Traceback (most recent call last)",
      "\u001b[0;32m<ipython-input-30-38a433a88843>\u001b[0m in \u001b[0;36m<module>\u001b[0;34m\u001b[0m\n\u001b[1;32m      1\u001b[0m \u001b[0;32mfrom\u001b[0m \u001b[0mmath\u001b[0m \u001b[0;32mimport\u001b[0m \u001b[0msqrt\u001b[0m\u001b[0;34m\u001b[0m\u001b[0m\n\u001b[0;32m----> 2\u001b[0;31m \u001b[0mr2\u001b[0m \u001b[0;34m=\u001b[0m \u001b[0msqrt\u001b[0m\u001b[0;34m(\u001b[0m\u001b[0;34m[\u001b[0m\u001b[0;36m1\u001b[0m\u001b[0;34m,\u001b[0m\u001b[0;36m2\u001b[0m\u001b[0;34m,\u001b[0m\u001b[0;36m3\u001b[0m\u001b[0;34m,\u001b[0m\u001b[0;36m4\u001b[0m\u001b[0;34m]\u001b[0m\u001b[0;34m)\u001b[0m \u001b[0;31m# Erreur dans le module math,\u001b[0m\u001b[0;34m\u001b[0m\u001b[0m\n\u001b[0m\u001b[1;32m      3\u001b[0m \u001b[0;31m# la racine carrée ne marche que sur un nombre seul et non une liste.\u001b[0m\u001b[0;34m\u001b[0m\u001b[0;34m\u001b[0m\u001b[0m\n",
      "\u001b[0;31mTypeError\u001b[0m: a float is required"
     ]
    }
   ],
   "source": [
    "from math import sqrt \n",
    "r2 = sqrt([1,2,3,4]) # Erreur dans le module math, \n",
    "# la racine carrée ne marche que sur un nombre seul et non une liste.\n"
   ]
  },
  {
   "cell_type": "markdown",
   "metadata": {},
   "source": [
    "On peut également charger toutes les fonctions d'un module avec la syntaxe \n",
    "\n",
    "from module import *\n",
    "\n",
    "Attention en revanche aux conflits dus aux fonctions de même nom dans des librairies différentes"
   ]
  },
  {
   "cell_type": "code",
   "execution_count": 31,
   "metadata": {},
   "outputs": [
    {
     "name": "stdout",
     "output_type": "stream",
     "text": [
      "[0.         0.69314718 1.09861229 1.38629436]\n"
     ]
    }
   ],
   "source": [
    "from numpy import *\n",
    "\n",
    "# On a chargé entre autres la fonction ln:\n",
    "\n",
    "val = log([1,2,3,4])\n",
    "print(val)"
   ]
  },
  {
   "cell_type": "markdown",
   "metadata": {},
   "source": [
    "# Programmation dans le cadre d'un projet, découpage fonctionnel et utilisation conjointe des fonctions\n",
    "\n",
    "Dans le cadre d'un projet informatique, le code peut et DOIT être découpé selon les sous-fonctions qui le composent. L'objectif est de \n",
    "\n",
    "* Pouvoir tester séparément les fonctions élémentaires et vérifier que leur fonctionnement est normal.\n",
    "* Permettre de partager le travail entre plusieurs développeurs et ainsi accélérer la vitesse de développement d'un projet\n",
    "* Pouvoir facilement implémenter de nouvelles fonctionnalités en tirant parti de la modularité du code.\n",
    "\n",
    "Les fonctions peuvent s'appeler mutuellement ! Celà permet de construire des fonctions de plus en plus complexe en se basant sur des fonctions élémentaires tout en réduisant les erreurs de programmation."
   ]
  },
  {
   "cell_type": "markdown",
   "metadata": {},
   "source": [
    "### Exemple : Conception d'un code permettant d'effectuer la conversion des nombres entre différentes bases.\n",
    "\n",
    "D'après la méthode vue en cours, un tel code effectue les tâches suivantes : \n",
    "\n",
    "* Transformation en base 10 du nombre depuis la base de départ.\n",
    "\n",
    "* Puis pour effectuer la décomposition dans la base d'arrivée:\n",
    "\n",
    "* * Calcul du quotient et du reste de la division euclidienne d'un nombre par le nombre de symboles de la base d'arrivée\n",
    "\n",
    "* * ajouter le reste dans une liste \n",
    "\n",
    "* * tant que le quotient est non nul répéter ces 2 opérations \n",
    "\n",
    "* Renvoyer la liste des restes lues de droite à gauche.\n",
    "\n",
    "On fait l'hypothèse que les données d'entrée de la fonction prennent la forme d'un tuple constitué d'une chaîne de caractère (représentant les symboles dans la base de départ), de la base d'expression de départ et de celle d'arrivée. Ainsi ('2a1',16,5) correspond au nombre exprimé en base hexadécimale 0x2A1 pour lequel on souhaite que notre code exécute une conversion vers la base 5.\n",
    "\n",
    "On se propose d'utiliser les prototypes de fonction et les fonctions définies ci-après pour réaliser ces tâches\n"
   ]
  },
  {
   "cell_type": "code",
   "execution_count": 32,
   "metadata": {},
   "outputs": [],
   "source": [
    "import string\n",
    "\n",
    "\n",
    "def conversion(chaine_symbole,base_depart,base_arrivee):\n",
    "    '''Effectue la conversion d'un nombre représenté par une chaine de symbole d une base de départ vers une d arrivee\n",
    "    Entrées: chaine_symbole -> chaine de caractères contenant la représentation dans la base de départ du nombre à convertir\n",
    "    base_depart -> nombre de symboles de la base de départ\n",
    "    base_arrivee -> nombre de symboles de la base d arrivee\n",
    "    Sorties: chaine_convertie -> Chaine de caractere représentant les symboles dans la base d arrivee'''\n",
    "    \n",
    "    nombre_base_10 = chaine_to_base_10(chaine_symbole,base_depart)\n",
    "    print(nombre_base_10)\n",
    "    chaine_restes = ''\n",
    "    quotient = -1\n",
    "    while quotient != 0:\n",
    "        quotient, reste = nombre_base_10 // base_arrivee, nombre_base_10 % base_arrivee\n",
    "        chaine_restes += str(reste) # on ajoute le nouveau reste calculé à droite de la chaine de ceux calculés précédemment\n",
    "        nombre_base_10 = quotient\n",
    "    chaine_convertie = inversion(chaine_restes)\n",
    "    return chaine_convertie\n",
    "\n",
    "\n",
    "def chaine_to_base_10(chaine_symbole,base_depart):\n",
    "    '''Aide à compléter'''\n",
    "    if base_depart == 10:\n",
    "        return int(chaine_symbole)\n",
    "    else:\n",
    "        sortie_base_10 = 0\n",
    "        # Il faut appliquer la formule du cours pour passer en base 10:\n",
    "        for index_caractere in range(len(chaine_symbole)):\n",
    "            caractere = chaine_symbole[index_caractere]\n",
    "            puissance_correspondante = len(chaine_symbole)-index_caractere-1 \n",
    "            sortie_base_10 += caractere_to_base_10(caractere,base_depart)*(base_depart**puissance_correspondante) \n",
    "        return sortie_base_10\n",
    "\n",
    "def caractere_to_base_10(symbole,base_depart):\n",
    "    '''Aide à compléter'''\n",
    "    alphabet = '0123456789'+string.ascii_lowercase # Chaine de caractère avec tous les caractères chiffres et lettres\n",
    "    symbole_minus = symbole.lower()\n",
    "    val_symbole = trouve_position(symbole_minus,alphabet)\n",
    "    return val_symbole\n",
    "    \n",
    "def trouve_position(symbole,chaine):\n",
    "    ''' Renvoie la position d un symbole dans une chaine de caracteres differents\n",
    "    Entrées : symbole -> symbole à rechercher\n",
    "    chaine -> chaine de caractère contenant des symboles uniques\n",
    "    Sorties : position -> indice auquel le symbole est présent, -1 si le symbole est absent'''\n",
    "    \n",
    "    ######## Code à écrire #########\n",
    "    # rappel : chaine[i] renvoie le symbole à la position i (on compte à partir de 0)\n",
    "    # len(chaine) renvoie la valeur de la taille de la chaine; exemples:\n",
    "    # len('abcd') renvoie 4 et 'abcd'[2] renvoie 'c' (a est à la position [0])\n",
    "    \n",
    "    # triche pour tester votre code:\n",
    "    position = chaine.index(symbole)\n",
    "    return position\n",
    "\n",
    "def inversion(chaine):\n",
    "    '''Aide à compléter'''\n",
    "    \n",
    "    # code à compléter\n",
    "    \n",
    "    # triche pour tester le code\n",
    "    chaine_inversee = chaine[::-1]\n",
    "    return chaine_inversee\n",
    "    "
   ]
  },
  {
   "cell_type": "code",
   "execution_count": 33,
   "metadata": {},
   "outputs": [
    {
     "name": "stdout",
     "output_type": "stream",
     "text": [
      "171\n"
     ]
    },
    {
     "data": {
      "text/plain": [
       "'171'"
      ]
     },
     "execution_count": 33,
     "metadata": {},
     "output_type": "execute_result"
    }
   ],
   "source": [
    "conversion('ab',16,10)"
   ]
  }
 ],
 "metadata": {
  "kernelspec": {
   "display_name": "Python 3",
   "language": "python",
   "name": "python3"
  },
  "language_info": {
   "codemirror_mode": {
    "name": "ipython",
    "version": 3
   },
   "file_extension": ".py",
   "mimetype": "text/x-python",
   "name": "python",
   "nbconvert_exporter": "python",
   "pygments_lexer": "ipython3",
   "version": "3.5.5"
  }
 },
 "nbformat": 4,
 "nbformat_minor": 4
}
