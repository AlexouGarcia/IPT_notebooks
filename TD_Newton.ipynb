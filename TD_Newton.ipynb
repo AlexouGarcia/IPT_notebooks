{
 "cells": [
  {
   "cell_type": "code",
   "execution_count": 2,
   "metadata": {},
   "outputs": [],
   "source": [
    "import matplotlib.pyplot as plt\n",
    "import numpy as np\n",
    "\n",
    "# La librairie maths ne sait pas gérer de listes ou tableaux\n",
    "# si on veut exp(x) avec x un tableau de valeurs\n",
    "# soit np.exp(x) <- ca ca marche\n",
    "# soit [maths.exp(x_i) for x_i in x] <- Lourd\n",
    "# donc on utilise numpy\n",
    "# vrai pour sin, cos, tan, acos , ... \n",
    "\n",
    "%matplotlib inline"
   ]
  },
  {
   "cell_type": "code",
   "execution_count": 3,
   "metadata": {},
   "outputs": [],
   "source": [
    "def dichotomie (f ,a ,b , epsilon ):\n",
    "    '''\n",
    "    Entree : une fonction f, supposee continue et monotone sur l’intervalle [a,b]\n",
    "    et une valeur epsilon correspondant a l’ecart acceptable par rapport a zero .\n",
    "    Sortie : la valeur d’un point de l’intervalle [a,b] pour lequel la fonction\n",
    "    est nulle a epsilon pres . La recherche de l’element se fait par dichotomie .\n",
    "    '''\n",
    "    droite , gauche =b , a\n",
    "    milieu =( droite + gauche )/2.0\n",
    "    fg , fd , fm = f ( gauche ) , f ( droite ) , f ( milieu )\n",
    "    compteur =1\n",
    "    while droite - milieu > epsilon :# Tant que l’on n’est pas assez proche du zero\n",
    "        if fm * fg <0: # Le zero est entre gauche et milieu\n",
    "            droite , fd = milieu , fm # On bouge la borne droite et on reattribue fd\n",
    "        else : # Sinon , le zero est forcement a droite du milieu\n",
    "            gauche , fg = milieu , fm # On bouge la borne gauche et on reattribue fg\n",
    "    ## Quelle que soit la borne bougee ##\n",
    "        milieu =( droite + gauche )/2.0 # On recalcule le milieu\n",
    "        fm = f ( milieu ) # On calcule la nouvelle valeur au milieu\n",
    "        compteur +=1 # On compte une iteration de plus\n",
    "    return ( milieu , compteur )\n",
    "\n",
    "def newton (f , fp , x_0 , epsilon ):\n",
    "    '''\n",
    "    Entree : une fonction f, supposee continue et monotone ; une fonction fp ,\n",
    "    derivee de f; un point x_0 , point de depart de l’algorithme .\n",
    "    Sortie : la valeur d’un point pour lequel la fonction est nulle a epsilon\n",
    "    pres . La recherche de l’element se fait par la methode de Newton .\n",
    "    '''\n",
    "    x = x_0 # Point de depart de l’algorithme\n",
    "    y =x - f ( x )/ fp ( x ) # Valeur du point ou la tangente au point x de la fonction f\n",
    "    # coupe l’axe des abscisses\n",
    "    compteur =1 # Initialisation du compteur\n",
    "    while abs(x - y ) > epsilon : # Critere d’arret\n",
    "        x = y\n",
    "        y =x - f ( x )/ fp ( x )\n",
    "        compteur +=1\n",
    "    return (y , compteur )\n",
    "\n",
    "def fp_approx (x, f_orig , h =0.0001):\n",
    "    return ( f_orig ( x + h ) - f_orig ( x ) / h)"
   ]
  },
  {
   "cell_type": "code",
   "execution_count": 4,
   "metadata": {},
   "outputs": [],
   "source": [
    "def f0(x):\n",
    "    return x - 0.7\n",
    "\n",
    "def fp0(x):\n",
    "    return 1"
   ]
  },
  {
   "cell_type": "code",
   "execution_count": 5,
   "metadata": {},
   "outputs": [
    {
     "data": {
      "text/plain": [
       "[<matplotlib.lines.Line2D at 0x10ad7d8d0>]"
      ]
     },
     "execution_count": 5,
     "metadata": {},
     "output_type": "execute_result"
    },
    {
     "data": {
      "image/png": "[encoded data removed]",
      "text/plain": [
       "<Figure size 432x288 with 1 Axes>"
      ]
     },
     "metadata": {
      "needs_background": "light"
     },
     "output_type": "display_data"
    }
   ],
   "source": [
    "X = np.linspace(0,2,100)\n",
    "plt.plot(X,f0(X))\n",
    "plt.plot(0.7,f0(0.7),'o',color='red')"
   ]
  },
  {
   "cell_type": "code",
   "execution_count": 21,
   "metadata": {},
   "outputs": [
    {
     "name": "stdout",
     "output_type": "stream",
     "text": [
      "(0.6999998092651367, 21)\n",
      "(0.7, 2)\n"
     ]
    }
   ],
   "source": [
    "epsilon = 0.000001\n",
    "print(dichotomie (f0 ,0. ,2. , epsilon ))\n",
    "print(newton(f0,fp0,0.,epsilon))"
   ]
  },
  {
   "cell_type": "code",
   "execution_count": 22,
   "metadata": {},
   "outputs": [],
   "source": [
    "\n",
    "def f1(x):\n",
    "    return x**2.-3.\n",
    "def fp1(x):\n",
    "    return 2.*x"
   ]
  },
  {
   "cell_type": "code",
   "execution_count": 44,
   "metadata": {},
   "outputs": [
    {
     "data": {
      "image/png": "[encoded data removed]",
      "text/plain": [
       "<Figure size 432x288 with 1 Axes>"
      ]
     },
     "metadata": {
      "needs_background": "light"
     },
     "output_type": "display_data"
    }
   ],
   "source": [
    "X = np.linspace(1,2,100)\n",
    "plt.plot(X,f1(X))\n",
    "plt.plot(np.sqrt(3),f1(np.sqrt(3)),'o',color='red')\n",
    "#plt.plot(-np.sqrt(3),f1(-np.sqrt(3)),'o',color='red')\n",
    "#plt.plot(X,0*X)\n",
    "\n",
    "\n",
    "epsilon = 10.**(-9)\n",
    "\n",
    "def fp_approx_1(x,h =0.1):\n",
    "    return ( (f1 ( x + h ) - f1 ( x ) )/ h)\n"
   ]
  },
  {
   "cell_type": "code",
   "execution_count": 45,
   "metadata": {},
   "outputs": [
    {
     "data": {
      "text/plain": [
       "(1.7320508072152734, 30)"
      ]
     },
     "execution_count": 45,
     "metadata": {},
     "output_type": "execute_result"
    }
   ],
   "source": [
    "\n",
    "\n",
    "\n",
    "dichotomie(f1,1,2,epsilon)"
   ]
  },
  {
   "cell_type": "code",
   "execution_count": null,
   "metadata": {},
   "outputs": [],
   "source": []
  },
  {
   "cell_type": "code",
   "execution_count": 46,
   "metadata": {},
   "outputs": [
    {
     "data": {
      "text/plain": [
       "(1.7320508075688774, 5)"
      ]
     },
     "execution_count": 46,
     "metadata": {},
     "output_type": "execute_result"
    }
   ],
   "source": [
    "newton(f1,fp1,2,epsilon)"
   ]
  },
  {
   "cell_type": "code",
   "execution_count": 47,
   "metadata": {},
   "outputs": [
    {
     "data": {
      "text/plain": [
       "(1.7320508075833512, 7)"
      ]
     },
     "execution_count": 47,
     "metadata": {},
     "output_type": "execute_result"
    }
   ],
   "source": [
    "newton(f1,fp_approx_1,2,epsilon)"
   ]
  },
  {
   "cell_type": "code",
   "execution_count": null,
   "metadata": {},
   "outputs": [],
   "source": []
  }
 ],
 "metadata": {
  "kernelspec": {
   "display_name": "Python 2",
   "language": "python",
   "name": "python2"
  },
  "language_info": {
   "codemirror_mode": {
    "name": "ipython",
    "version": 2
   },
   "file_extension": ".py",
   "mimetype": "text/x-python",
   "name": "python",
   "nbconvert_exporter": "python",
   "pygments_lexer": "ipython2",
   "version": "2.7.14"
  }
 },
 "nbformat": 4,
 "nbformat_minor": 2
}
